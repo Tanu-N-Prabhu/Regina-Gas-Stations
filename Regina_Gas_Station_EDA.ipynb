{
  "nbformat": 4,
  "nbformat_minor": 0,
  "metadata": {
    "colab": {
      "provenance": [],
      "authorship_tag": "ABX9TyPt0aGBNMNstiyhiiECjaSV",
      "include_colab_link": true
    },
    "kernelspec": {
      "name": "python3",
      "display_name": "Python 3"
    },
    "language_info": {
      "name": "python"
    }
  },
  "cells": [
    {
      "cell_type": "markdown",
      "metadata": {
        "id": "view-in-github",
        "colab_type": "text"
      },
      "source": [
        "<a href=\"https://colab.research.google.com/github/Tanu-N-Prabhu/Regina-Gas-Stations/blob/main/Regina_Gas_Station_EDA.ipynb\" target=\"_parent\"><img src=\"https://colab.research.google.com/assets/colab-badge.svg\" alt=\"Open In Colab\"/></a>"
      ]
    },
    {
      "cell_type": "markdown",
      "source": [
        "# **Exploring the Regina Gas Stations Dataset**\n",
        "\n",
        "![Image](https://economicdevelopmentregina.com/wp-content/uploads/2022/05/City-Skyline-Compressed-Keithe-Hershmiller-cropped-1.jpg)\n",
        "\n",
        "---\n",
        "\n",
        "# **Table of contents**\n",
        "1. [Purpose](#purpose)\n",
        "2. [Loading the Dataset](#loading)\n",
        "    1. [Printing the entire dataset](#print)\n",
        "3. [Removing the empty row](#remove)\n",
        "4. [Information about the database](#info)\n",
        "5. [Key Error](#Key)\n",
        "6. [Counting occurrences of a specific value](#count)\n",
        "7. [Grouping Specific Column Data](#group)\n",
        "8. [Plotting the Data](#plot)\n",
        "9. [Conclusion](#conclusion)\n",
        "---\n",
        "\n",
        "## **Purpose** <a name=\"purpose\"></a>\n",
        "I created this dataset to do some experiments and tell stories. I scraped every single data from the Google Maps manually. Although, this is a open source dataset, feel free to edit and update if you have any great suggestions. All the EDA tools and techniques will be applied on this data-set. Get exicited.\n",
        "\n",
        "\n",
        "## **Loading the Dataset** <a name=\"loading\"></a>\n",
        "\n",
        "First you need to upload the dataset to your Google Colab. Then you need to `read` it to your notebook as shown below. Since this is not a big dataset interms of having many rows. I stored them in a Excel Sheet. A simple way to store big data sets is to use CSV files (comma separated files).\n",
        "\n",
        "CSV files contains plain text and is a well know format that can be read by everyone including Pandas. To read a CSV file you might want to use `pd.read_csv('data.csv')`. instead of `pd.read_excel` which is used for excel stored datasets. "
      ],
      "metadata": {
        "id": "2MHmdhnGi_if"
      }
    },
    {
      "cell_type": "code",
      "execution_count": null,
      "metadata": {
        "colab": {
          "base_uri": "https://localhost:8080/",
          "height": 423
        },
        "id": "r4bV4p10iHOm",
        "outputId": "ca82b69a-e7d1-491d-d27a-fec55cf106eb"
      },
      "outputs": [
        {
          "output_type": "execute_result",
          "data": {
            "text/plain": [
              "                        Name           Location  Phone Number\n",
              "0                        NaN                NaN           NaN\n",
              "1                      Mobil     Albert Street   306-790-1228\n",
              "2                      Esso      Albert Street   306-584-7185\n",
              "3   Canadian Tire - Gas Plus     Albert Street   306-585-3319\n",
              "4              Co-op Gas Bar     Albert Street   306-791-8890\n",
              "..                       ...                ...           ...\n",
              "64             Cowessess Gas      SK-33 Highway  306-359-6777\n",
              "65             Petro Canada     Gravel Pit Road  306-525-6033\n",
              "66         Petro Pass Regina        529 1 Ave E  306-721-6667\n",
              "67             Co-op Gas Bar  Great Plains Road  306-791-5707\n",
              "68                      Esso  Great Plains Road  306-781-2580\n",
              "\n",
              "[69 rows x 3 columns]"
            ],
            "text/html": [
              "\n",
              "  <div id=\"df-8ce2d170-aa3f-4990-84c9-2fec69ecae82\">\n",
              "    <div class=\"colab-df-container\">\n",
              "      <div>\n",
              "<style scoped>\n",
              "    .dataframe tbody tr th:only-of-type {\n",
              "        vertical-align: middle;\n",
              "    }\n",
              "\n",
              "    .dataframe tbody tr th {\n",
              "        vertical-align: top;\n",
              "    }\n",
              "\n",
              "    .dataframe thead th {\n",
              "        text-align: right;\n",
              "    }\n",
              "</style>\n",
              "<table border=\"1\" class=\"dataframe\">\n",
              "  <thead>\n",
              "    <tr style=\"text-align: right;\">\n",
              "      <th></th>\n",
              "      <th>Name</th>\n",
              "      <th>Location</th>\n",
              "      <th>Phone Number</th>\n",
              "    </tr>\n",
              "  </thead>\n",
              "  <tbody>\n",
              "    <tr>\n",
              "      <th>0</th>\n",
              "      <td>NaN</td>\n",
              "      <td>NaN</td>\n",
              "      <td>NaN</td>\n",
              "    </tr>\n",
              "    <tr>\n",
              "      <th>1</th>\n",
              "      <td>Mobil</td>\n",
              "      <td>Albert Street</td>\n",
              "      <td>306-790-1228</td>\n",
              "    </tr>\n",
              "    <tr>\n",
              "      <th>2</th>\n",
              "      <td>Esso</td>\n",
              "      <td>Albert Street</td>\n",
              "      <td>306-584-7185</td>\n",
              "    </tr>\n",
              "    <tr>\n",
              "      <th>3</th>\n",
              "      <td>Canadian Tire - Gas Plus</td>\n",
              "      <td>Albert Street</td>\n",
              "      <td>306-585-3319</td>\n",
              "    </tr>\n",
              "    <tr>\n",
              "      <th>4</th>\n",
              "      <td>Co-op Gas Bar</td>\n",
              "      <td>Albert Street</td>\n",
              "      <td>306-791-8890</td>\n",
              "    </tr>\n",
              "    <tr>\n",
              "      <th>...</th>\n",
              "      <td>...</td>\n",
              "      <td>...</td>\n",
              "      <td>...</td>\n",
              "    </tr>\n",
              "    <tr>\n",
              "      <th>64</th>\n",
              "      <td>Cowessess Gas</td>\n",
              "      <td>SK-33 Highway</td>\n",
              "      <td>306-359-6777</td>\n",
              "    </tr>\n",
              "    <tr>\n",
              "      <th>65</th>\n",
              "      <td>Petro Canada</td>\n",
              "      <td>Gravel Pit Road</td>\n",
              "      <td>306-525-6033</td>\n",
              "    </tr>\n",
              "    <tr>\n",
              "      <th>66</th>\n",
              "      <td>Petro Pass Regina</td>\n",
              "      <td>529 1 Ave E</td>\n",
              "      <td>306-721-6667</td>\n",
              "    </tr>\n",
              "    <tr>\n",
              "      <th>67</th>\n",
              "      <td>Co-op Gas Bar</td>\n",
              "      <td>Great Plains Road</td>\n",
              "      <td>306-791-5707</td>\n",
              "    </tr>\n",
              "    <tr>\n",
              "      <th>68</th>\n",
              "      <td>Esso</td>\n",
              "      <td>Great Plains Road</td>\n",
              "      <td>306-781-2580</td>\n",
              "    </tr>\n",
              "  </tbody>\n",
              "</table>\n",
              "<p>69 rows × 3 columns</p>\n",
              "</div>\n",
              "      <button class=\"colab-df-convert\" onclick=\"convertToInteractive('df-8ce2d170-aa3f-4990-84c9-2fec69ecae82')\"\n",
              "              title=\"Convert this dataframe to an interactive table.\"\n",
              "              style=\"display:none;\">\n",
              "        \n",
              "  <svg xmlns=\"http://www.w3.org/2000/svg\" height=\"24px\"viewBox=\"0 0 24 24\"\n",
              "       width=\"24px\">\n",
              "    <path d=\"M0 0h24v24H0V0z\" fill=\"none\"/>\n",
              "    <path d=\"M18.56 5.44l.94 2.06.94-2.06 2.06-.94-2.06-.94-.94-2.06-.94 2.06-2.06.94zm-11 1L8.5 8.5l.94-2.06 2.06-.94-2.06-.94L8.5 2.5l-.94 2.06-2.06.94zm10 10l.94 2.06.94-2.06 2.06-.94-2.06-.94-.94-2.06-.94 2.06-2.06.94z\"/><path d=\"M17.41 7.96l-1.37-1.37c-.4-.4-.92-.59-1.43-.59-.52 0-1.04.2-1.43.59L10.3 9.45l-7.72 7.72c-.78.78-.78 2.05 0 2.83L4 21.41c.39.39.9.59 1.41.59.51 0 1.02-.2 1.41-.59l7.78-7.78 2.81-2.81c.8-.78.8-2.07 0-2.86zM5.41 20L4 18.59l7.72-7.72 1.47 1.35L5.41 20z\"/>\n",
              "  </svg>\n",
              "      </button>\n",
              "      \n",
              "  <style>\n",
              "    .colab-df-container {\n",
              "      display:flex;\n",
              "      flex-wrap:wrap;\n",
              "      gap: 12px;\n",
              "    }\n",
              "\n",
              "    .colab-df-convert {\n",
              "      background-color: #E8F0FE;\n",
              "      border: none;\n",
              "      border-radius: 50%;\n",
              "      cursor: pointer;\n",
              "      display: none;\n",
              "      fill: #1967D2;\n",
              "      height: 32px;\n",
              "      padding: 0 0 0 0;\n",
              "      width: 32px;\n",
              "    }\n",
              "\n",
              "    .colab-df-convert:hover {\n",
              "      background-color: #E2EBFA;\n",
              "      box-shadow: 0px 1px 2px rgba(60, 64, 67, 0.3), 0px 1px 3px 1px rgba(60, 64, 67, 0.15);\n",
              "      fill: #174EA6;\n",
              "    }\n",
              "\n",
              "    [theme=dark] .colab-df-convert {\n",
              "      background-color: #3B4455;\n",
              "      fill: #D2E3FC;\n",
              "    }\n",
              "\n",
              "    [theme=dark] .colab-df-convert:hover {\n",
              "      background-color: #434B5C;\n",
              "      box-shadow: 0px 1px 3px 1px rgba(0, 0, 0, 0.15);\n",
              "      filter: drop-shadow(0px 1px 2px rgba(0, 0, 0, 0.3));\n",
              "      fill: #FFFFFF;\n",
              "    }\n",
              "  </style>\n",
              "\n",
              "      <script>\n",
              "        const buttonEl =\n",
              "          document.querySelector('#df-8ce2d170-aa3f-4990-84c9-2fec69ecae82 button.colab-df-convert');\n",
              "        buttonEl.style.display =\n",
              "          google.colab.kernel.accessAllowed ? 'block' : 'none';\n",
              "\n",
              "        async function convertToInteractive(key) {\n",
              "          const element = document.querySelector('#df-8ce2d170-aa3f-4990-84c9-2fec69ecae82');\n",
              "          const dataTable =\n",
              "            await google.colab.kernel.invokeFunction('convertToInteractive',\n",
              "                                                     [key], {});\n",
              "          if (!dataTable) return;\n",
              "\n",
              "          const docLinkHtml = 'Like what you see? Visit the ' +\n",
              "            '<a target=\"_blank\" href=https://colab.research.google.com/notebooks/data_table.ipynb>data table notebook</a>'\n",
              "            + ' to learn more about interactive tables.';\n",
              "          element.innerHTML = '';\n",
              "          dataTable['output_type'] = 'display_data';\n",
              "          await google.colab.output.renderOutput(dataTable, element);\n",
              "          const docLink = document.createElement('div');\n",
              "          docLink.innerHTML = docLinkHtml;\n",
              "          element.appendChild(docLink);\n",
              "        }\n",
              "      </script>\n",
              "    </div>\n",
              "  </div>\n",
              "  "
            ]
          },
          "metadata": {},
          "execution_count": 6
        }
      ],
      "source": [
        "import pandas as pd\n",
        "\n",
        "# Reading the dataset\n",
        "df = pd.read_excel('/content/Regina Gas Stations.xlsx')\n",
        "df"
      ]
    },
    {
      "cell_type": "markdown",
      "source": [
        "### **Printing the entire dataset** <a name=\"print\"></a>\n",
        "\n",
        "If you wanted to print the entire dataset, then you can use the `to_string()` method. This will consume a lot of RAM but worth giving a try and know how it works. "
      ],
      "metadata": {
        "id": "EYh5NC6spzb_"
      }
    },
    {
      "cell_type": "code",
      "source": [
        "print(df.to_string())"
      ],
      "metadata": {
        "colab": {
          "base_uri": "https://localhost:8080/"
        },
        "id": "rqMPEW7RqHTC",
        "outputId": "b5579949-0fea-4ef5-9d97-809bdc5fceb8"
      },
      "execution_count": null,
      "outputs": [
        {
          "output_type": "stream",
          "name": "stdout",
          "text": [
            "                        Name               Location  Phone Number\n",
            "0                        NaN                    NaN           NaN\n",
            "1                      Mobil         Albert Street   306-790-1228\n",
            "2                      Esso          Albert Street   306-584-7185\n",
            "3   Canadian Tire - Gas Plus         Albert Street   306-585-3319\n",
            "4              Co-op Gas Bar         Albert Street   306-791-8890\n",
            "5                      Shell         Albert Street   306-586-4333\n",
            "6              Petro Canada          Albert Street   306-585-1849\n",
            "7                     Mobil               Broadway   306-569-0255\n",
            "8             Co-op Gas Bar            Gordon Road   306-791-9388\n",
            "9              Petro Canada          Albert Street   306-522-9112\n",
            "10                     Esso          Albert Street   306-525-0414\n",
            "11             Petro Canada        Victoria Avenue   306-352-4252\n",
            "12            Race Trac Gas            Hill Avenue   306-586-5777\n",
            "13              Fas Gas Plus            7th Avenue   306-569-3399\n",
            "14                      Esso            7th Avenue            TBD\n",
            "15       Regina Discount Gas    Saskatchewan Drive   306-924-8733\n",
            "16              Checkers Gas         Pasqua Street   306-791-6362\n",
            "17                      Esso         Arcola Avenue   306-525-9121\n",
            "18                     Shell         Arcola Avenue   306-525-1717\n",
            "19             Petro Canada          Quance Street   306-791-6934\n",
            "20         Regina Messenger         Halifax Street            TBD\n",
            "21  Regina Cabs Gas Station     Saskatchewan Drive   306-543-3333\n",
            "22             Co-op Gas Bar         Dewdney Avenue  306-791-9308\n",
            "23                     Husky            Park Street  306-522-0160\n",
            "24                     Shell       Victoria Avenue   306-789-9495\n",
            "25                     Shell       Victoria Avenue   306-525-1218\n",
            "26                     Domo          Albert Street            TBD\n",
            "27                      Esso         Albert Street   306-543-1155\n",
            "28                    Shell          Albert Street   306-543-2900\n",
            "29             Petro Canada            Fleet Street  306-789-7077\n",
            "30                     Shell             4400 4 Ave  306-337-1252\n",
            "31                    Shell         Truesdale Drive  306-789-6150\n",
            "32       Regina Discount Gas        Winnipeg Street           TBD\n",
            "33  Canadian Tire - Gas Plus         Albert Street   306-924-5535\n",
            "34                      Esso        Winnipeg Street           TBD\n",
            "35             Petro Canada          Albert Street   306-545-3533\n",
            "36                      Esso    180 Albert Street N  306-949-5800\n",
            "37             Petro Canada          Sherwood Drive  306-545-3533\n",
            "38             Petro Canada       Bucking Ham Drive  306-501-9288\n",
            "39                    Mobil   Prince of Wales Drive  306-546-6526\n",
            "40             Co-op Gas Bar        Winnipeg Street  306-791-9303\n",
            "41            Regina Gas Bar         Albert Street   306-791-8890\n",
            "42                     Shell          McCarthy Bvld  306-949-6155\n",
            "43             Co-op Gas Bar  Prince of Wales Drive  306-791-9334\n",
            "44                     Husky  Prince of Wales Drive  306-789-3477\n",
            "45              Fas Gas Plus          Edward Street  306-585-6657\n",
            "46                  Creeland           Angus Street  306-525-8066\n",
            "47                     Shell    310 McCarthy Bvld N  306-949-2550\n",
            "48     Petro Pass Truck Stop            529 1 Ave E  306-924-1919\n",
            "49             Co-op Gas Bar             Chuka Blvd  306-791-1922\n",
            "50           Esso - Cardlock  Prince of Wales Drive           TBD\n",
            "51                     Mobil          Rochdale Blvd  306-546-6626\n",
            "52          Kleins Food Mart         Pasqua Street   306-791-6362\n",
            "53                      Esso          Rochdale Blvd  306-949-5677\n",
            "54             Co-op Gas Bar          Rochdale Blvd  306-791-9333\n",
            "55                  Flying J            Ross Avenue  306-721-0070\n",
            "56                      Esso            Pinkie Road  306-347-0608\n",
            "57             Co-op Gas Bar    8501 Dewdney Avenue  306-791-1932\n",
            "58                     Domo           Rochdale Blvd           TBD\n",
            "59        Costco Gas Station           Anaquod Road  306-271-0912\n",
            "60                  7-Eleven      Bucking Ham Drive           TBD\n",
            "61                     TEMPO        McDonald Street           TBD\n",
            "62             Petro Canada    4415 Albert Street S  306-585-1849\n",
            "63                    Husky         McDonald Street  306-721-6880\n",
            "64             Cowessess Gas          SK-33 Highway  306-359-6777\n",
            "65             Petro Canada         Gravel Pit Road  306-525-6033\n",
            "66         Petro Pass Regina            529 1 Ave E  306-721-6667\n",
            "67             Co-op Gas Bar      Great Plains Road  306-791-5707\n",
            "68                      Esso      Great Plains Road  306-781-2580\n"
          ]
        }
      ]
    },
    {
      "cell_type": "markdown",
      "source": [
        "---\n",
        "\n",
        "## **Removing the empty row** <a name=\"remove\"></a>\n",
        "\n",
        "As you can see the first row has `NaN` values which means its not a number value. We need to remove it. \n",
        "\n",
        "```\n",
        "DataFrame.drop(labels=None, *, axis=0, index=None, columns=None, level=None, inplace=False, errors='raise')\n",
        "\n",
        "```"
      ],
      "metadata": {
        "id": "YPnMoFeNjDjt"
      }
    },
    {
      "cell_type": "code",
      "source": [
        "df = df.drop(0)\n",
        "df"
      ],
      "metadata": {
        "id": "0fODLrcTjpnP",
        "colab": {
          "base_uri": "https://localhost:8080/",
          "height": 423
        },
        "outputId": "c531d2e6-ef1c-4101-ef4d-868fc672b368"
      },
      "execution_count": null,
      "outputs": [
        {
          "output_type": "execute_result",
          "data": {
            "text/plain": [
              "                        Name           Location  Phone Number\n",
              "1                      Mobil     Albert Street   306-790-1228\n",
              "2                      Esso      Albert Street   306-584-7185\n",
              "3   Canadian Tire - Gas Plus     Albert Street   306-585-3319\n",
              "4              Co-op Gas Bar     Albert Street   306-791-8890\n",
              "5                      Shell     Albert Street   306-586-4333\n",
              "..                       ...                ...           ...\n",
              "64             Cowessess Gas      SK-33 Highway  306-359-6777\n",
              "65             Petro Canada     Gravel Pit Road  306-525-6033\n",
              "66         Petro Pass Regina        529 1 Ave E  306-721-6667\n",
              "67             Co-op Gas Bar  Great Plains Road  306-791-5707\n",
              "68                      Esso  Great Plains Road  306-781-2580\n",
              "\n",
              "[68 rows x 3 columns]"
            ],
            "text/html": [
              "\n",
              "  <div id=\"df-1cf785e5-3ad8-41c4-a088-5747d29310fc\">\n",
              "    <div class=\"colab-df-container\">\n",
              "      <div>\n",
              "<style scoped>\n",
              "    .dataframe tbody tr th:only-of-type {\n",
              "        vertical-align: middle;\n",
              "    }\n",
              "\n",
              "    .dataframe tbody tr th {\n",
              "        vertical-align: top;\n",
              "    }\n",
              "\n",
              "    .dataframe thead th {\n",
              "        text-align: right;\n",
              "    }\n",
              "</style>\n",
              "<table border=\"1\" class=\"dataframe\">\n",
              "  <thead>\n",
              "    <tr style=\"text-align: right;\">\n",
              "      <th></th>\n",
              "      <th>Name</th>\n",
              "      <th>Location</th>\n",
              "      <th>Phone Number</th>\n",
              "    </tr>\n",
              "  </thead>\n",
              "  <tbody>\n",
              "    <tr>\n",
              "      <th>1</th>\n",
              "      <td>Mobil</td>\n",
              "      <td>Albert Street</td>\n",
              "      <td>306-790-1228</td>\n",
              "    </tr>\n",
              "    <tr>\n",
              "      <th>2</th>\n",
              "      <td>Esso</td>\n",
              "      <td>Albert Street</td>\n",
              "      <td>306-584-7185</td>\n",
              "    </tr>\n",
              "    <tr>\n",
              "      <th>3</th>\n",
              "      <td>Canadian Tire - Gas Plus</td>\n",
              "      <td>Albert Street</td>\n",
              "      <td>306-585-3319</td>\n",
              "    </tr>\n",
              "    <tr>\n",
              "      <th>4</th>\n",
              "      <td>Co-op Gas Bar</td>\n",
              "      <td>Albert Street</td>\n",
              "      <td>306-791-8890</td>\n",
              "    </tr>\n",
              "    <tr>\n",
              "      <th>5</th>\n",
              "      <td>Shell</td>\n",
              "      <td>Albert Street</td>\n",
              "      <td>306-586-4333</td>\n",
              "    </tr>\n",
              "    <tr>\n",
              "      <th>...</th>\n",
              "      <td>...</td>\n",
              "      <td>...</td>\n",
              "      <td>...</td>\n",
              "    </tr>\n",
              "    <tr>\n",
              "      <th>64</th>\n",
              "      <td>Cowessess Gas</td>\n",
              "      <td>SK-33 Highway</td>\n",
              "      <td>306-359-6777</td>\n",
              "    </tr>\n",
              "    <tr>\n",
              "      <th>65</th>\n",
              "      <td>Petro Canada</td>\n",
              "      <td>Gravel Pit Road</td>\n",
              "      <td>306-525-6033</td>\n",
              "    </tr>\n",
              "    <tr>\n",
              "      <th>66</th>\n",
              "      <td>Petro Pass Regina</td>\n",
              "      <td>529 1 Ave E</td>\n",
              "      <td>306-721-6667</td>\n",
              "    </tr>\n",
              "    <tr>\n",
              "      <th>67</th>\n",
              "      <td>Co-op Gas Bar</td>\n",
              "      <td>Great Plains Road</td>\n",
              "      <td>306-791-5707</td>\n",
              "    </tr>\n",
              "    <tr>\n",
              "      <th>68</th>\n",
              "      <td>Esso</td>\n",
              "      <td>Great Plains Road</td>\n",
              "      <td>306-781-2580</td>\n",
              "    </tr>\n",
              "  </tbody>\n",
              "</table>\n",
              "<p>68 rows × 3 columns</p>\n",
              "</div>\n",
              "      <button class=\"colab-df-convert\" onclick=\"convertToInteractive('df-1cf785e5-3ad8-41c4-a088-5747d29310fc')\"\n",
              "              title=\"Convert this dataframe to an interactive table.\"\n",
              "              style=\"display:none;\">\n",
              "        \n",
              "  <svg xmlns=\"http://www.w3.org/2000/svg\" height=\"24px\"viewBox=\"0 0 24 24\"\n",
              "       width=\"24px\">\n",
              "    <path d=\"M0 0h24v24H0V0z\" fill=\"none\"/>\n",
              "    <path d=\"M18.56 5.44l.94 2.06.94-2.06 2.06-.94-2.06-.94-.94-2.06-.94 2.06-2.06.94zm-11 1L8.5 8.5l.94-2.06 2.06-.94-2.06-.94L8.5 2.5l-.94 2.06-2.06.94zm10 10l.94 2.06.94-2.06 2.06-.94-2.06-.94-.94-2.06-.94 2.06-2.06.94z\"/><path d=\"M17.41 7.96l-1.37-1.37c-.4-.4-.92-.59-1.43-.59-.52 0-1.04.2-1.43.59L10.3 9.45l-7.72 7.72c-.78.78-.78 2.05 0 2.83L4 21.41c.39.39.9.59 1.41.59.51 0 1.02-.2 1.41-.59l7.78-7.78 2.81-2.81c.8-.78.8-2.07 0-2.86zM5.41 20L4 18.59l7.72-7.72 1.47 1.35L5.41 20z\"/>\n",
              "  </svg>\n",
              "      </button>\n",
              "      \n",
              "  <style>\n",
              "    .colab-df-container {\n",
              "      display:flex;\n",
              "      flex-wrap:wrap;\n",
              "      gap: 12px;\n",
              "    }\n",
              "\n",
              "    .colab-df-convert {\n",
              "      background-color: #E8F0FE;\n",
              "      border: none;\n",
              "      border-radius: 50%;\n",
              "      cursor: pointer;\n",
              "      display: none;\n",
              "      fill: #1967D2;\n",
              "      height: 32px;\n",
              "      padding: 0 0 0 0;\n",
              "      width: 32px;\n",
              "    }\n",
              "\n",
              "    .colab-df-convert:hover {\n",
              "      background-color: #E2EBFA;\n",
              "      box-shadow: 0px 1px 2px rgba(60, 64, 67, 0.3), 0px 1px 3px 1px rgba(60, 64, 67, 0.15);\n",
              "      fill: #174EA6;\n",
              "    }\n",
              "\n",
              "    [theme=dark] .colab-df-convert {\n",
              "      background-color: #3B4455;\n",
              "      fill: #D2E3FC;\n",
              "    }\n",
              "\n",
              "    [theme=dark] .colab-df-convert:hover {\n",
              "      background-color: #434B5C;\n",
              "      box-shadow: 0px 1px 3px 1px rgba(0, 0, 0, 0.15);\n",
              "      filter: drop-shadow(0px 1px 2px rgba(0, 0, 0, 0.3));\n",
              "      fill: #FFFFFF;\n",
              "    }\n",
              "  </style>\n",
              "\n",
              "      <script>\n",
              "        const buttonEl =\n",
              "          document.querySelector('#df-1cf785e5-3ad8-41c4-a088-5747d29310fc button.colab-df-convert');\n",
              "        buttonEl.style.display =\n",
              "          google.colab.kernel.accessAllowed ? 'block' : 'none';\n",
              "\n",
              "        async function convertToInteractive(key) {\n",
              "          const element = document.querySelector('#df-1cf785e5-3ad8-41c4-a088-5747d29310fc');\n",
              "          const dataTable =\n",
              "            await google.colab.kernel.invokeFunction('convertToInteractive',\n",
              "                                                     [key], {});\n",
              "          if (!dataTable) return;\n",
              "\n",
              "          const docLinkHtml = 'Like what you see? Visit the ' +\n",
              "            '<a target=\"_blank\" href=https://colab.research.google.com/notebooks/data_table.ipynb>data table notebook</a>'\n",
              "            + ' to learn more about interactive tables.';\n",
              "          element.innerHTML = '';\n",
              "          dataTable['output_type'] = 'display_data';\n",
              "          await google.colab.output.renderOutput(dataTable, element);\n",
              "          const docLink = document.createElement('div');\n",
              "          docLink.innerHTML = docLinkHtml;\n",
              "          element.appendChild(docLink);\n",
              "        }\n",
              "      </script>\n",
              "    </div>\n",
              "  </div>\n",
              "  "
            ]
          },
          "metadata": {},
          "execution_count": 8
        }
      ]
    },
    {
      "cell_type": "markdown",
      "source": [
        "---\n",
        "\n",
        "## **Information about the Data Frame** <a name=\"info\"></a>"
      ],
      "metadata": {
        "id": "fXkC9CBXjtWZ"
      }
    },
    {
      "cell_type": "code",
      "source": [
        "df.info()"
      ],
      "metadata": {
        "colab": {
          "base_uri": "https://localhost:8080/"
        },
        "id": "xAxq-49ekTTM",
        "outputId": "85fa1190-02d3-4be3-8ab3-769aa57cdd6a"
      },
      "execution_count": null,
      "outputs": [
        {
          "output_type": "stream",
          "name": "stdout",
          "text": [
            "<class 'pandas.core.frame.DataFrame'>\n",
            "RangeIndex: 68 entries, 1 to 68\n",
            "Data columns (total 3 columns):\n",
            " #   Column        Non-Null Count  Dtype \n",
            "---  ------        --------------  ----- \n",
            " 0   Name          68 non-null     object\n",
            " 1   Location      68 non-null     object\n",
            " 2   Phone Number  68 non-null     object\n",
            "dtypes: object(3)\n",
            "memory usage: 1.7+ KB\n"
          ]
        }
      ]
    },
    {
      "cell_type": "markdown",
      "source": [
        "What we can understand from this data is that there are **67 Gas Stations in Regina**. This excludes the first row that is the table header."
      ],
      "metadata": {
        "id": "pP3zFTiAnORy"
      }
    },
    {
      "cell_type": "markdown",
      "source": [
        "---\n",
        "\n",
        "## **Key Error** <a name=\"key\"></a>\n",
        "\n",
        "This can be a nightmare sometimes. It took me several hours to find the root cause of the problem. The column names had a white space appenede at the end. Remove this and your issue will be solved. \n"
      ],
      "metadata": {
        "id": "6UUxCG_Fkdv1"
      }
    },
    {
      "cell_type": "code",
      "source": [
        "# This is to check if any white space is appended to the column names\n",
        "print(df.columns.tolist())"
      ],
      "metadata": {
        "colab": {
          "base_uri": "https://localhost:8080/"
        },
        "id": "BABXvkDSk98j",
        "outputId": "acb6dc37-8d0f-45d9-8e79-d0924e8476de"
      },
      "execution_count": null,
      "outputs": [
        {
          "output_type": "stream",
          "name": "stdout",
          "text": [
            "['Name', 'Location', 'Phone Number']\n"
          ]
        }
      ]
    },
    {
      "cell_type": "markdown",
      "source": [
        "---\n",
        "\n",
        "## **Counting occurrences of a specific value** <a name=\"count\"></a>\n",
        "\n",
        "```\n",
        "data['column_name'].value_counts()[value]\n",
        "```\n",
        "\n",
        "where\n",
        "\n",
        "* data is the input dataframe\n",
        "* value is the string/integer value present in the column to be counted\n",
        "* column_name is the column in the dataframe\n",
        "\n"
      ],
      "metadata": {
        "id": "Snc6lT36lDnW"
      }
    },
    {
      "cell_type": "code",
      "source": [
        "print(df['Location'].value_counts())"
      ],
      "metadata": {
        "colab": {
          "base_uri": "https://localhost:8080/"
        },
        "id": "1kfrdrKAszOk",
        "outputId": "afb0ae1b-6ac8-4f18-985b-8367612b7832"
      },
      "execution_count": null,
      "outputs": [
        {
          "output_type": "stream",
          "name": "stdout",
          "text": [
            "Albert Street            14\n",
            "Rochdale Blvd             4\n",
            "Prince of Wales Drive     4\n",
            "Winnipeg Street           3\n",
            "Victoria Avenue           3\n",
            "McDonald Street           2\n",
            "529 1 Ave E               2\n",
            "Bucking Ham Drive         2\n",
            "Great Plains Road         2\n",
            "7th Avenue                2\n",
            "Arcola Avenue             2\n",
            "Pasqua Street             2\n",
            "Saskatchewan Drive        2\n",
            "Quance Street             1\n",
            "Gravel Pit Road           1\n",
            "SK-33 Highway             1\n",
            "4415 Albert Street S      1\n",
            "Gordon Road               1\n",
            "Anaquod Road              1\n",
            "8501 Dewdney Avenue       1\n",
            "Pinkie Road               1\n",
            "Ross Avenue               1\n",
            "Hill Avenue               1\n",
            "Chuka Blvd                1\n",
            "Angus Street              1\n",
            "310 McCarthy Bvld N       1\n",
            "Halifax Street            1\n",
            "Edward Street             1\n",
            "McCarthy Bvld             1\n",
            "Broadway                  1\n",
            "180 Albert Street N       1\n",
            "Truesdale Drive           1\n",
            "4400 4 Ave                1\n",
            "Fleet Street              1\n",
            "Park Street               1\n",
            "Dewdney Avenue            1\n",
            "Sherwood Drive            1\n",
            "Name: Location, dtype: int64\n",
            "['Name', 'Location', 'Phone Number']\n"
          ]
        }
      ]
    },
    {
      "cell_type": "markdown",
      "source": [
        "---\n",
        "\n",
        "## **Grouping Specific Column Data** <a name=\"group\"></a>\n",
        "\n",
        "Grouping the column `Location`, this gives a count of the occurances. You call `.groupby()` and pass the name of the column that you want to group on, which is \"Location\". Then, you use `[\"Name\"]` to specify the columns on which you want to perform the actual aggregation."
      ],
      "metadata": {
        "id": "PiVm9eE6oVFy"
      }
    },
    {
      "cell_type": "code",
      "source": [
        "Location_count = df.groupby(\"Location\")[\"Name\"].count()\n",
        "Location_count"
      ],
      "metadata": {
        "colab": {
          "base_uri": "https://localhost:8080/"
        },
        "id": "w5JDEyP5oYMz",
        "outputId": "eaacbb92-55d3-49cf-f850-671b04d518a7"
      },
      "execution_count": null,
      "outputs": [
        {
          "output_type": "execute_result",
          "data": {
            "text/plain": [
              "Location\n",
              "180 Albert Street N       1\n",
              "310 McCarthy Bvld N       1\n",
              "4400 4 Ave                1\n",
              "4415 Albert Street S      1\n",
              "529 1 Ave E               2\n",
              "7th Avenue                2\n",
              "8501 Dewdney Avenue       1\n",
              "Albert Street            14\n",
              "Anaquod Road              1\n",
              "Angus Street              1\n",
              "Arcola Avenue             2\n",
              "Broadway                  1\n",
              "Bucking Ham Drive         2\n",
              "Chuka Blvd                1\n",
              "Dewdney Avenue            1\n",
              "Edward Street             1\n",
              "Fleet Street              1\n",
              "Gordon Road               1\n",
              "Gravel Pit Road           1\n",
              "Great Plains Road         2\n",
              "Halifax Street            1\n",
              "Hill Avenue               1\n",
              "McCarthy Bvld             1\n",
              "McDonald Street           2\n",
              "Park Street               1\n",
              "Pasqua Street             2\n",
              "Pinkie Road               1\n",
              "Prince of Wales Drive     4\n",
              "Quance Street             1\n",
              "Rochdale Blvd             4\n",
              "Ross Avenue               1\n",
              "SK-33 Highway             1\n",
              "Saskatchewan Drive        2\n",
              "Sherwood Drive            1\n",
              "Truesdale Drive           1\n",
              "Victoria Avenue           3\n",
              "Winnipeg Street           3\n",
              "Name: Name, dtype: int64"
            ]
          },
          "metadata": {},
          "execution_count": 21
        }
      ]
    },
    {
      "cell_type": "markdown",
      "source": [
        "---\n",
        "\n",
        "## **Plotting the Data** <a name=\"plot\"></a>\n",
        "\n",
        "For this we can use the pandas bar plot. A bar plot is a plot that presents categorical data with rectangular bars with lengths proportional to the values that they represent. A bar plot shows comparisons among discrete categories. One axis of the plot shows the specific categories being compared, and the other axis represents a measured value.\n",
        "\n"
      ],
      "metadata": {
        "id": "0LYaE0w9ueVq"
      }
    },
    {
      "cell_type": "code",
      "source": [
        "Location_count.plot.bar(stacked=True, figsize = (15, 4))"
      ],
      "metadata": {
        "colab": {
          "base_uri": "https://localhost:8080/",
          "height": 571
        },
        "id": "yLYMJ1m7t4gI",
        "outputId": "b83c35ee-23ce-4a1a-fd26-b6e21e217694"
      },
      "execution_count": null,
      "outputs": [
        {
          "output_type": "execute_result",
          "data": {
            "text/plain": [
              "<Axes: xlabel='Location'>"
            ]
          },
          "metadata": {},
          "execution_count": 29
        },
        {
          "output_type": "display_data",
          "data": {
            "text/plain": [
              "<Figure size 1500x400 with 1 Axes>"
            ],
            "image/png": "[encoded data removed]"
          },
          "metadata": {}
        }
      ]
    },
    {
      "cell_type": "markdown",
      "source": [
        "## **Conclusion** <a name= \"conclusion\"></a>\n",
        "\n",
        "Hence there I conclude there are currently 69 Gas Stations in the City of Regina. This will dynamic and hence can change frequently. I will in the future create a scraper tool that will automatically scrape the data so that I don't manually need to add new cells in the Excel Sheet. If you have any intresting EDA tools, feel free to let me know. If will definetly add it in here. My contact info is `tanunprabhu95@gmail.com`. Thanks for reading my article. Stay tuned for more updates. Until then see you next time. "
      ],
      "metadata": {
        "id": "LgpWZ_66UhDA"
      }
    }
  ]
}